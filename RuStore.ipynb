{
 "cells": [
  {
   "cell_type": "code",
   "execution_count": 3,
   "id": "47c18cff-51eb-4ed6-8eb7-2e291c91c15e",
   "metadata": {},
   "outputs": [
    {
     "name": "stderr",
     "output_type": "stream",
     "text": [
      "/var/folders/t9/p_t5rsf92s38bb58_mfpk3rm0000gn/T/ipykernel_54486/2470038779.py:1: DeprecationWarning: \n",
      "Pyarrow will become a required dependency of pandas in the next major release of pandas (pandas 3.0),\n",
      "(to allow more performant data types, such as the Arrow string type, and better interoperability with other libraries)\n",
      "but was not found to be installed on your system.\n",
      "If this would cause problems for you,\n",
      "please provide us feedback at https://github.com/pandas-dev/pandas/issues/54466\n",
      "        \n",
      "  import pandas as pd\n"
     ]
    }
   ],
   "source": [
    "import pandas as pd\n",
    "df1 = pd.read_csv('/Users/vladimiregorov/Downloads/results1-30F.csv')\n",
    "df2 = pd.read_csv('/Users/vladimiregorov/Downloads/results31-60F.csv')\n",
    "df3 = pd.read_csv('/Users/vladimiregorov/Downloads/results61-90F.csv')\n",
    "df4 = pd.read_csv('/Users/vladimiregorov/Downloads/results90-121F.csv')\n",
    "df5 = pd.read_csv('/Users/vladimiregorov/Downloads/results121-150F.csv')\n",
    "df6 = pd.read_csv('/Users/vladimiregorov/Downloads/results151-180F.csv')\n",
    "df7 = pd.read_csv('/Users/vladimiregorov/Downloads/results181-210F.csv')\n",
    "df8 = pd.read_csv('/Users/vladimiregorov/Downloads/results211-240F.csv')\n",
    "df9 = pd.read_csv('/Users/vladimiregorov/Downloads/results241-270F.csv')\n",
    "df10 = pd.read_csv('/Users/vladimiregorov/Downloads/results271-300F.csv')\n",
    "df11 = pd.read_csv('/Users/vladimiregorov/Downloads/results301-340F.csv')\n",
    "df12 = pd.read_csv('/Users/vladimiregorov/Downloads/results341-370F.csv')\n",
    "df13 = pd.read_csv('/Users/vladimiregorov/Downloads/results371-400F.csv')\n",
    "df14 = pd.read_csv('/Users/vladimiregorov/Downloads/results401-440F.csv')\n",
    "df15 = pd.read_csv('/Users/vladimiregorov/Downloads/results441-500F.csv')\n",
    "df16 = pd.read_csv('/Users/vladimiregorov/Downloads/results501-550F.csv')\n",
    "df17 = pd.read_csv('/Users/vladimiregorov/Downloads/results551-600F.csv')\n",
    "df18 = pd.read_csv('/Users/vladimiregorov/Downloads/results601-650F.csv')\n",
    "df19 = pd.read_csv('/Users/vladimiregorov/Downloads/results651-700F.csv')\n",
    "df20 = pd.read_csv('/Users/vladimiregorov/Downloads/results701-761F.csv')\n"
   ]
  },
  {
   "cell_type": "code",
   "execution_count": 4,
   "id": "49a27c6e-65d4-48dd-bb6b-c392aa4c0936",
   "metadata": {},
   "outputs": [],
   "source": [
    "finalDF = pd.concat([df1, df2, df3, df4, df5, df6, df7,df8, df9, df10, df11, df12, df13, df14, df15, df16, df17, df18, df19, df20], ignore_index=True)"
   ]
  },
  {
   "cell_type": "code",
   "execution_count": 5,
   "id": "34d19e2f-e489-4b9b-a2ab-a03b1cfeeafc",
   "metadata": {},
   "outputs": [
    {
     "data": {
      "text/plain": [
       "17800"
      ]
     },
     "execution_count": 5,
     "metadata": {},
     "output_type": "execute_result"
    }
   ],
   "source": [
    "len(finalDF)"
   ]
  },
  {
   "cell_type": "code",
   "execution_count": 20,
   "id": "560c9a24-028a-4be8-82af-cbd335726a80",
   "metadata": {},
   "outputs": [],
   "source": [
    "finalDF.to_csv('RUSTORE_DATA_.csv')"
   ]
  },
  {
   "cell_type": "code",
   "execution_count": 10,
   "id": "8f755fec-a3c5-4954-a56e-7d522fd56d3d",
   "metadata": {},
   "outputs": [
    {
     "data": {
      "text/plain": [
       "pandas.core.frame.DataFrame"
      ]
     },
     "execution_count": 10,
     "metadata": {},
     "output_type": "execute_result"
    }
   ],
   "source": [
    "type(finalDF)\n"
   ]
  }
 ],
 "metadata": {
  "kernelspec": {
   "display_name": "Python 3 (ipykernel)",
   "language": "python",
   "name": "python3"
  },
  "language_info": {
   "codemirror_mode": {
    "name": "ipython",
    "version": 3
   },
   "file_extension": ".py",
   "mimetype": "text/x-python",
   "name": "python",
   "nbconvert_exporter": "python",
   "pygments_lexer": "ipython3",
   "version": "3.9.12"
  }
 },
 "nbformat": 4,
 "nbformat_minor": 5
}
